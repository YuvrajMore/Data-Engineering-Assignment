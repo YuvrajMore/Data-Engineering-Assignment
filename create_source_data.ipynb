{
 "cells": [
  {
   "cell_type": "code",
   "execution_count": 1,
   "metadata": {},
   "outputs": [],
   "source": [
    "## Import necessary libraries, do not ignore warnings in beginning\n",
    "import pandas as pd\n",
    "import numpy as np\n",
    "import datetime as dt\n",
    "import json\n",
    "import yfinance as yf\n",
    "import yahoo_fin.stock_info as st\n",
    "#import warnings\n",
    "#warnings.filterwarnings('ignore')"
   ]
  },
  {
   "cell_type": "markdown",
   "metadata": {},
   "source": [
    "Declaring ticker names and time interval"
   ]
  },
  {
   "cell_type": "code",
   "execution_count": 2,
   "metadata": {},
   "outputs": [],
   "source": [
    "## list of ticker names, contains NIFTY, some blue chip companies, some banks, some IT companies.\n",
    "## ticker names are in format - companyname.NS, ns -> national stock exchange.\n",
    "## startdate, enddate can be modified as desired, update_period should be kept to 1d as we are getting daily updates\n",
    "\n",
    "names = ['^NSEI','RELIANCE.NS', 'BHARTIARTL.NS', 'ASIANPAINT.NS','HDFCBANK.NS', 'ICICIBANK.NS', 'SBIN.NS','TCS.NS', 'MPHASIS.NS', 'TECHM.NS']\n",
    "startdate = \"2018-03-01\" ## since beginning of financial year 2022-23\n",
    "enddate = \"2024-02-21\"\n",
    "update_period = '1m' ## 1 minute\n",
    "\n",
    "## setup logger to log flow of data creation\n",
    "import logging\n",
    "logger = logging.getLogger('data_create_log')\n",
    "formatter = logging.Formatter('%(asctime)s | %(name)s | %(levelname)s | %(message)s')\n",
    "file_h = logging.FileHandler('data_create.log')\n",
    "file_h.setFormatter(formatter)\n",
    "logger.setLevel(logging.DEBUG)\n",
    "logger.addHandler(file_h)"
   ]
  },
  {
   "cell_type": "markdown",
   "metadata": {},
   "source": [
    "# Get dividends and splits data using yahoo_fin library"
   ]
  },
  {
   "cell_type": "code",
   "execution_count": 3,
   "metadata": {},
   "outputs": [
    {
     "name": "stderr",
     "output_type": "stream",
     "text": [
      "<>:24: SyntaxWarning: invalid escape sequence '\\S'\n",
      "<>:24: SyntaxWarning: invalid escape sequence '\\S'\n",
      "C:\\Users\\Admin\\AppData\\Local\\Temp\\ipykernel_20084\\3749260838.py:24: SyntaxWarning: invalid escape sequence '\\S'\n",
      "  logger.info(f\"Successfully saved dataframe to path D:\\Study\\DE\\Project\\data_source\\splits_dividends_data\\splits_data.csv\")\n",
      "d:\\Softwares\\Python\\Lib\\site-packages\\yahoo_fin\\stock_info.py:746: FutureWarning: The behavior of 'to_datetime' with 'unit' when parsing strings is deprecated. In a future version, strings will be parsed as datetime strings, matching the behavior without a 'unit'. To retain the old behavior, explicitly cast ints or floats to numeric type before calling to_datetime.\n",
      "  frame.index = pd.to_datetime(frame.index, unit = \"s\")\n"
     ]
    },
    {
     "name": "stdout",
     "output_type": "stream",
     "text": [
      "Getting splits data for Ticker name: RELIANCE.NS\n",
      "####################################################################################################\n"
     ]
    },
    {
     "name": "stderr",
     "output_type": "stream",
     "text": [
      "d:\\Softwares\\Python\\Lib\\site-packages\\yahoo_fin\\stock_info.py:746: FutureWarning: The behavior of 'to_datetime' with 'unit' when parsing strings is deprecated. In a future version, strings will be parsed as datetime strings, matching the behavior without a 'unit'. To retain the old behavior, explicitly cast ints or floats to numeric type before calling to_datetime.\n",
      "  frame.index = pd.to_datetime(frame.index, unit = \"s\")\n"
     ]
    },
    {
     "name": "stdout",
     "output_type": "stream",
     "text": [
      "Getting splits data for Ticker name: BHARTIARTL.NS\n",
      "####################################################################################################\n"
     ]
    },
    {
     "name": "stderr",
     "output_type": "stream",
     "text": [
      "d:\\Softwares\\Python\\Lib\\site-packages\\yahoo_fin\\stock_info.py:746: FutureWarning: The behavior of 'to_datetime' with 'unit' when parsing strings is deprecated. In a future version, strings will be parsed as datetime strings, matching the behavior without a 'unit'. To retain the old behavior, explicitly cast ints or floats to numeric type before calling to_datetime.\n",
      "  frame.index = pd.to_datetime(frame.index, unit = \"s\")\n"
     ]
    },
    {
     "name": "stdout",
     "output_type": "stream",
     "text": [
      "Getting splits data for Ticker name: ASIANPAINT.NS\n",
      "####################################################################################################\n"
     ]
    },
    {
     "name": "stderr",
     "output_type": "stream",
     "text": [
      "d:\\Softwares\\Python\\Lib\\site-packages\\yahoo_fin\\stock_info.py:746: FutureWarning: The behavior of 'to_datetime' with 'unit' when parsing strings is deprecated. In a future version, strings will be parsed as datetime strings, matching the behavior without a 'unit'. To retain the old behavior, explicitly cast ints or floats to numeric type before calling to_datetime.\n",
      "  frame.index = pd.to_datetime(frame.index, unit = \"s\")\n"
     ]
    },
    {
     "name": "stdout",
     "output_type": "stream",
     "text": [
      "Getting splits data for Ticker name: HDFCBANK.NS\n",
      "####################################################################################################\n"
     ]
    },
    {
     "name": "stderr",
     "output_type": "stream",
     "text": [
      "d:\\Softwares\\Python\\Lib\\site-packages\\yahoo_fin\\stock_info.py:746: FutureWarning: The behavior of 'to_datetime' with 'unit' when parsing strings is deprecated. In a future version, strings will be parsed as datetime strings, matching the behavior without a 'unit'. To retain the old behavior, explicitly cast ints or floats to numeric type before calling to_datetime.\n",
      "  frame.index = pd.to_datetime(frame.index, unit = \"s\")\n"
     ]
    },
    {
     "name": "stdout",
     "output_type": "stream",
     "text": [
      "Getting splits data for Ticker name: ICICIBANK.NS\n",
      "####################################################################################################\n"
     ]
    },
    {
     "name": "stderr",
     "output_type": "stream",
     "text": [
      "d:\\Softwares\\Python\\Lib\\site-packages\\yahoo_fin\\stock_info.py:746: FutureWarning: The behavior of 'to_datetime' with 'unit' when parsing strings is deprecated. In a future version, strings will be parsed as datetime strings, matching the behavior without a 'unit'. To retain the old behavior, explicitly cast ints or floats to numeric type before calling to_datetime.\n",
      "  frame.index = pd.to_datetime(frame.index, unit = \"s\")\n"
     ]
    },
    {
     "name": "stdout",
     "output_type": "stream",
     "text": [
      "Getting splits data for Ticker name: SBIN.NS\n",
      "####################################################################################################\n"
     ]
    },
    {
     "name": "stderr",
     "output_type": "stream",
     "text": [
      "d:\\Softwares\\Python\\Lib\\site-packages\\yahoo_fin\\stock_info.py:746: FutureWarning: The behavior of 'to_datetime' with 'unit' when parsing strings is deprecated. In a future version, strings will be parsed as datetime strings, matching the behavior without a 'unit'. To retain the old behavior, explicitly cast ints or floats to numeric type before calling to_datetime.\n",
      "  frame.index = pd.to_datetime(frame.index, unit = \"s\")\n"
     ]
    },
    {
     "name": "stdout",
     "output_type": "stream",
     "text": [
      "Getting splits data for Ticker name: TCS.NS\n",
      "####################################################################################################\n"
     ]
    },
    {
     "name": "stderr",
     "output_type": "stream",
     "text": [
      "d:\\Softwares\\Python\\Lib\\site-packages\\yahoo_fin\\stock_info.py:746: FutureWarning: The behavior of 'to_datetime' with 'unit' when parsing strings is deprecated. In a future version, strings will be parsed as datetime strings, matching the behavior without a 'unit'. To retain the old behavior, explicitly cast ints or floats to numeric type before calling to_datetime.\n",
      "  frame.index = pd.to_datetime(frame.index, unit = \"s\")\n"
     ]
    },
    {
     "name": "stdout",
     "output_type": "stream",
     "text": [
      "Getting splits data for Ticker name: MPHASIS.NS\n",
      "####################################################################################################\n",
      "Getting splits data for Ticker name: TECHM.NS\n",
      "####################################################################################################\n"
     ]
    },
    {
     "name": "stderr",
     "output_type": "stream",
     "text": [
      "d:\\Softwares\\Python\\Lib\\site-packages\\yahoo_fin\\stock_info.py:746: FutureWarning: The behavior of 'to_datetime' with 'unit' when parsing strings is deprecated. In a future version, strings will be parsed as datetime strings, matching the behavior without a 'unit'. To retain the old behavior, explicitly cast ints or floats to numeric type before calling to_datetime.\n",
      "  frame.index = pd.to_datetime(frame.index, unit = \"s\")\n"
     ]
    }
   ],
   "source": [
    "data = pd.DataFrame()\n",
    "count=0\n",
    "for item in names:\n",
    "    if item==r\"^NSEI\":\n",
    "        continue\n",
    "    logger.info(f\"getting splits data for {item}...\")\n",
    "    try:\n",
    "        df = st.get_splits(item)\n",
    "        logger.info(f\"Successfully fetched splits data for {item}\")\n",
    "        count+=1\n",
    "    except:\n",
    "        logger.error(\"Exception while getting splits data\", exc_info=True)\n",
    "        raise Exception(\"Exception while getting splits data\")\n",
    "    data = pd.concat([data, df], sort=False)\n",
    "    df.index.names=['Date']\n",
    "    print(f\"Getting splits data for Ticker name: {item}\")\n",
    "    #print(df.head())\n",
    "    print(r\"#\" * 100)\n",
    "\n",
    "data.index.names=['Date']\n",
    "data.head(20)\n",
    "logger.info(f\"Successfully fetched data for {count} ticker names\")\n",
    "data.to_csv(r\"D:\\Study\\DE\\Project\\data_source\\splits_dividends_data\\splits_data.csv\")\n",
    "logger.info(f\"Successfully saved dataframe to path D:\\Study\\DE\\Project\\data_source\\splits_dividends_data\\splits_data.csv\")"
   ]
  },
  {
   "cell_type": "code",
   "execution_count": 4,
   "metadata": {},
   "outputs": [
    {
     "name": "stderr",
     "output_type": "stream",
     "text": [
      "<>:24: SyntaxWarning: invalid escape sequence '\\S'\n",
      "<>:24: SyntaxWarning: invalid escape sequence '\\S'\n",
      "C:\\Users\\Admin\\AppData\\Local\\Temp\\ipykernel_20084\\2164598684.py:24: SyntaxWarning: invalid escape sequence '\\S'\n",
      "  logger.info(f\"Successfully saved dataframe to path D:\\Study\\DE\\Project\\data_source\\splits_dividends_data\\dividends_data.csv\")\n",
      "d:\\Softwares\\Python\\Lib\\site-packages\\yahoo_fin\\stock_info.py:693: FutureWarning: The behavior of 'to_datetime' with 'unit' when parsing strings is deprecated. In a future version, strings will be parsed as datetime strings, matching the behavior without a 'unit'. To retain the old behavior, explicitly cast ints or floats to numeric type before calling to_datetime.\n",
      "  frame.index = pd.to_datetime(frame.index, unit = \"s\")\n"
     ]
    },
    {
     "name": "stdout",
     "output_type": "stream",
     "text": [
      "Getting dividends data for Ticker name: RELIANCE.NS\n",
      "###################################################\n"
     ]
    },
    {
     "name": "stderr",
     "output_type": "stream",
     "text": [
      "d:\\Softwares\\Python\\Lib\\site-packages\\yahoo_fin\\stock_info.py:693: FutureWarning: The behavior of 'to_datetime' with 'unit' when parsing strings is deprecated. In a future version, strings will be parsed as datetime strings, matching the behavior without a 'unit'. To retain the old behavior, explicitly cast ints or floats to numeric type before calling to_datetime.\n",
      "  frame.index = pd.to_datetime(frame.index, unit = \"s\")\n"
     ]
    },
    {
     "name": "stdout",
     "output_type": "stream",
     "text": [
      "Getting dividends data for Ticker name: BHARTIARTL.NS\n",
      "###################################################\n"
     ]
    },
    {
     "name": "stderr",
     "output_type": "stream",
     "text": [
      "d:\\Softwares\\Python\\Lib\\site-packages\\yahoo_fin\\stock_info.py:693: FutureWarning: The behavior of 'to_datetime' with 'unit' when parsing strings is deprecated. In a future version, strings will be parsed as datetime strings, matching the behavior without a 'unit'. To retain the old behavior, explicitly cast ints or floats to numeric type before calling to_datetime.\n",
      "  frame.index = pd.to_datetime(frame.index, unit = \"s\")\n"
     ]
    },
    {
     "name": "stdout",
     "output_type": "stream",
     "text": [
      "Getting dividends data for Ticker name: ASIANPAINT.NS\n",
      "###################################################\n"
     ]
    },
    {
     "name": "stderr",
     "output_type": "stream",
     "text": [
      "d:\\Softwares\\Python\\Lib\\site-packages\\yahoo_fin\\stock_info.py:693: FutureWarning: The behavior of 'to_datetime' with 'unit' when parsing strings is deprecated. In a future version, strings will be parsed as datetime strings, matching the behavior without a 'unit'. To retain the old behavior, explicitly cast ints or floats to numeric type before calling to_datetime.\n",
      "  frame.index = pd.to_datetime(frame.index, unit = \"s\")\n"
     ]
    },
    {
     "name": "stdout",
     "output_type": "stream",
     "text": [
      "Getting dividends data for Ticker name: HDFCBANK.NS\n",
      "###################################################\n"
     ]
    },
    {
     "name": "stderr",
     "output_type": "stream",
     "text": [
      "d:\\Softwares\\Python\\Lib\\site-packages\\yahoo_fin\\stock_info.py:693: FutureWarning: The behavior of 'to_datetime' with 'unit' when parsing strings is deprecated. In a future version, strings will be parsed as datetime strings, matching the behavior without a 'unit'. To retain the old behavior, explicitly cast ints or floats to numeric type before calling to_datetime.\n",
      "  frame.index = pd.to_datetime(frame.index, unit = \"s\")\n"
     ]
    },
    {
     "name": "stdout",
     "output_type": "stream",
     "text": [
      "Getting dividends data for Ticker name: ICICIBANK.NS\n",
      "###################################################\n"
     ]
    },
    {
     "name": "stderr",
     "output_type": "stream",
     "text": [
      "d:\\Softwares\\Python\\Lib\\site-packages\\yahoo_fin\\stock_info.py:693: FutureWarning: The behavior of 'to_datetime' with 'unit' when parsing strings is deprecated. In a future version, strings will be parsed as datetime strings, matching the behavior without a 'unit'. To retain the old behavior, explicitly cast ints or floats to numeric type before calling to_datetime.\n",
      "  frame.index = pd.to_datetime(frame.index, unit = \"s\")\n"
     ]
    },
    {
     "name": "stdout",
     "output_type": "stream",
     "text": [
      "Getting dividends data for Ticker name: SBIN.NS\n",
      "###################################################\n"
     ]
    },
    {
     "name": "stderr",
     "output_type": "stream",
     "text": [
      "d:\\Softwares\\Python\\Lib\\site-packages\\yahoo_fin\\stock_info.py:693: FutureWarning: The behavior of 'to_datetime' with 'unit' when parsing strings is deprecated. In a future version, strings will be parsed as datetime strings, matching the behavior without a 'unit'. To retain the old behavior, explicitly cast ints or floats to numeric type before calling to_datetime.\n",
      "  frame.index = pd.to_datetime(frame.index, unit = \"s\")\n"
     ]
    },
    {
     "name": "stdout",
     "output_type": "stream",
     "text": [
      "Getting dividends data for Ticker name: TCS.NS\n",
      "###################################################\n"
     ]
    },
    {
     "name": "stderr",
     "output_type": "stream",
     "text": [
      "d:\\Softwares\\Python\\Lib\\site-packages\\yahoo_fin\\stock_info.py:693: FutureWarning: The behavior of 'to_datetime' with 'unit' when parsing strings is deprecated. In a future version, strings will be parsed as datetime strings, matching the behavior without a 'unit'. To retain the old behavior, explicitly cast ints or floats to numeric type before calling to_datetime.\n",
      "  frame.index = pd.to_datetime(frame.index, unit = \"s\")\n"
     ]
    },
    {
     "name": "stdout",
     "output_type": "stream",
     "text": [
      "Getting dividends data for Ticker name: MPHASIS.NS\n",
      "###################################################\n",
      "Getting dividends data for Ticker name: TECHM.NS\n",
      "###################################################\n"
     ]
    },
    {
     "name": "stderr",
     "output_type": "stream",
     "text": [
      "d:\\Softwares\\Python\\Lib\\site-packages\\yahoo_fin\\stock_info.py:693: FutureWarning: The behavior of 'to_datetime' with 'unit' when parsing strings is deprecated. In a future version, strings will be parsed as datetime strings, matching the behavior without a 'unit'. To retain the old behavior, explicitly cast ints or floats to numeric type before calling to_datetime.\n",
      "  frame.index = pd.to_datetime(frame.index, unit = \"s\")\n"
     ]
    }
   ],
   "source": [
    "data = pd.DataFrame()\n",
    "count = 0\n",
    "for item in names:\n",
    "    if item==r\"^NSEI\":\n",
    "        continue\n",
    "    logger.info(f\"getting dividends data for {item}...\")\n",
    "    try:\n",
    "        df = st.get_dividends(item)\n",
    "        logger.info(f\"Successfully fetched dividends data for {item}\")\n",
    "        count+=1\n",
    "    except:\n",
    "        logger.error(\"Exception while getting dividends data\", exc_info=True)\n",
    "        raise Exception(\"Exception while getting dividends data\")\n",
    "    data = pd.concat([data, df], sort=False)\n",
    "    df.index.names=['Date']\n",
    "    print(f\"Getting dividends data for Ticker name: {item}\")\n",
    "    #print(df.head())\n",
    "    print(r\"###################################################\")\n",
    "\n",
    "data.index.names=['Date']\n",
    "data.head(20)\n",
    "logger.info(f\"Successfully fetched dividend data for {count} ticker names\")\n",
    "data.to_csv(r\"D:\\Study\\DE\\Project\\data_source\\splits_dividends_data\\dividends_data.csv\")\n",
    "logger.info(f\"Successfully saved dataframe to path D:\\Study\\DE\\Project\\data_source\\splits_dividends_data\\dividends_data.csv\")"
   ]
  },
  {
   "cell_type": "markdown",
   "metadata": {},
   "source": [
    "Function to get OHLC Data"
   ]
  },
  {
   "cell_type": "code",
   "execution_count": 5,
   "metadata": {},
   "outputs": [],
   "source": [
    "## function to fetch OHLC and volume data using yfinance library, to create source data\n",
    "## what it does - drops two columns, resets index and changes datetime to date only\n",
    "## by default date column is the index, not desirable because we want to change its format to date only\n",
    "## returns - dataframe with 6 columns (data, open, high, low, close, volume) and index named id, sorted by date.\n",
    "\n",
    "def get_ohlc_feed(name, period=None, startdate=None, enddate=None):\n",
    "    if period!=None:\n",
    "        try:\n",
    "            data = yf.Ticker(name).history(period=period)\n",
    "            logger.info(f\"Successfully fetched data for ticker name: {name}\")\n",
    "        except:\n",
    "            logger.error(f\"Could not fetch data for ticker name: {name}\", exc_info=True)\n",
    "    else:\n",
    "        try:\n",
    "            data = yf.Ticker(name).history(start=startdate, end=enddate)\n",
    "            logger.info(f\"Successfully fetched data for ticker name: {name}\")\n",
    "        except:\n",
    "            logger.error(f\"Could not fetch data for ticker name: {name}\", exc_info=True)\n",
    "    data.drop(columns=['Dividends', 'Stock Splits'], inplace=True)\n",
    "    data.reset_index(inplace=True)\n",
    "    data['Date'] = pd.to_datetime(data['Date']).dt.date\n",
    "    data.set_index(\"Date\", inplace=True)\n",
    "    logger.info(f\"Successfully created dataframe for ticker name: {name}\")\n",
    "    return data.sort_values('Date')"
   ]
  },
  {
   "cell_type": "markdown",
   "metadata": {},
   "source": [
    "Checking OHLC data availability"
   ]
  },
  {
   "cell_type": "code",
   "execution_count": 6,
   "metadata": {},
   "outputs": [
    {
     "name": "stderr",
     "output_type": "stream",
     "text": [
      "d:\\Softwares\\Python\\Lib\\site-packages\\yfinance\\utils.py:775: FutureWarning: The 'unit' keyword in TimedeltaIndex construction is deprecated and will be removed in a future version. Use pd.to_timedelta instead.\n",
      "  df.index += _pd.TimedeltaIndex(dst_error_hours, 'h')\n",
      "d:\\Softwares\\Python\\Lib\\site-packages\\yfinance\\utils.py:775: FutureWarning: The 'unit' keyword in TimedeltaIndex construction is deprecated and will be removed in a future version. Use pd.to_timedelta instead.\n",
      "  df.index += _pd.TimedeltaIndex(dst_error_hours, 'h')\n"
     ]
    },
    {
     "name": "stdout",
     "output_type": "stream",
     "text": [
      "Ticker Name: ^NSEI \t Number of record fetched: 5\n",
      "                    Open          High           Low         Close  Volume\n",
      "Date                                                                      \n",
      "2024-02-21  22020.300781  22249.400391  21997.949219  22055.050781       0\n",
      "2024-02-20  22099.199219  22215.599609  22045.849609  22196.949219  295700\n",
      "2024-02-19  22103.449219  22186.650391  22021.050781  22122.250000       0\n",
      "2024-02-16  22020.300781  22068.650391  21968.949219  22040.699219  343900\n",
      "2024-02-15  21906.550781  21953.849609  21794.800781  21910.750000  345400\n",
      "####################################################################################################\n",
      "\n",
      "\n",
      "Ticker Name: RELIANCE.NS \t Number of record fetched: 5\n",
      "                   Open         High          Low        Close   Volume\n",
      "Date                                                                   \n",
      "2024-02-21  2948.000000  2977.050049  2915.100098  2935.399902  6359316\n",
      "2024-02-20  2950.050049  2951.000000  2923.600098  2942.050049  3558748\n",
      "2024-02-19  2924.100098  2959.000000  2907.050049  2948.000000  3364914\n",
      "2024-02-16  2952.949951  2954.000000  2917.100098  2921.149902  4883749\n",
      "2024-02-15  2966.699951  2969.449951  2933.050049  2941.199951  5003391\n",
      "####################################################################################################\n",
      "\n",
      "\n"
     ]
    },
    {
     "name": "stderr",
     "output_type": "stream",
     "text": [
      "d:\\Softwares\\Python\\Lib\\site-packages\\yfinance\\utils.py:775: FutureWarning: The 'unit' keyword in TimedeltaIndex construction is deprecated and will be removed in a future version. Use pd.to_timedelta instead.\n",
      "  df.index += _pd.TimedeltaIndex(dst_error_hours, 'h')\n",
      "d:\\Softwares\\Python\\Lib\\site-packages\\yfinance\\utils.py:775: FutureWarning: The 'unit' keyword in TimedeltaIndex construction is deprecated and will be removed in a future version. Use pd.to_timedelta instead.\n",
      "  df.index += _pd.TimedeltaIndex(dst_error_hours, 'h')\n"
     ]
    },
    {
     "name": "stdout",
     "output_type": "stream",
     "text": [
      "Ticker Name: BHARTIARTL.NS \t Number of record fetched: 5\n",
      "                   Open         High          Low        Close   Volume\n",
      "Date                                                                   \n",
      "2024-02-21  1155.000000  1159.150024  1132.599976  1139.900024  4570075\n",
      "2024-02-20  1145.000000  1151.599976  1135.000000  1143.949951  5397418\n",
      "2024-02-19  1121.050049  1145.000000  1118.349976  1142.199951  4711035\n",
      "2024-02-16  1124.000000  1127.050049  1116.849976  1120.000000  3091952\n",
      "2024-02-15  1122.300049  1131.449951  1109.400024  1120.699951  5056712\n",
      "####################################################################################################\n",
      "\n",
      "\n",
      "Ticker Name: ASIANPAINT.NS \t Number of record fetched: 5\n",
      "                   Open         High          Low        Close   Volume\n",
      "Date                                                                   \n",
      "2024-02-21  3012.050049  3026.750000  2983.500000  3001.800049   926774\n",
      "2024-02-20  2998.100098  3017.100098  2972.100098  3011.649902   729371\n",
      "2024-02-19  3007.899902  3018.699951  2987.500000  2998.100098   560700\n",
      "2024-02-16  3035.000000  3035.000000  3000.000000  3007.899902  1179473\n",
      "2024-02-15  2980.000000  3024.500000  2967.449951  3016.550049  1068730\n",
      "####################################################################################################\n",
      "\n",
      "\n"
     ]
    },
    {
     "name": "stderr",
     "output_type": "stream",
     "text": [
      "d:\\Softwares\\Python\\Lib\\site-packages\\yfinance\\utils.py:775: FutureWarning: The 'unit' keyword in TimedeltaIndex construction is deprecated and will be removed in a future version. Use pd.to_timedelta instead.\n",
      "  df.index += _pd.TimedeltaIndex(dst_error_hours, 'h')\n",
      "d:\\Softwares\\Python\\Lib\\site-packages\\yfinance\\utils.py:775: FutureWarning: The 'unit' keyword in TimedeltaIndex construction is deprecated and will be removed in a future version. Use pd.to_timedelta instead.\n",
      "  df.index += _pd.TimedeltaIndex(dst_error_hours, 'h')\n"
     ]
    },
    {
     "name": "stdout",
     "output_type": "stream",
     "text": [
      "Ticker Name: HDFCBANK.NS \t Number of record fetched: 5\n",
      "                   Open         High          Low        Close    Volume\n",
      "Date                                                                    \n",
      "2024-02-21  1464.000000  1464.000000  1435.000000  1439.150024  22940046\n",
      "2024-02-20  1415.000000  1457.250000  1411.800049  1454.300049  28066754\n",
      "2024-02-19  1429.000000  1429.000000  1415.199951  1417.099976  17225878\n",
      "2024-02-16  1423.900024  1427.699951  1408.449951  1419.900024  16087871\n",
      "2024-02-15  1385.000000  1415.500000  1384.349976  1414.050049  20792472\n",
      "####################################################################################################\n",
      "\n",
      "\n",
      "Ticker Name: ICICIBANK.NS \t Number of record fetched: 5\n",
      "                   Open         High          Low        Close    Volume\n",
      "Date                                                                    \n",
      "2024-02-21  1056.800049  1064.000000  1048.000000  1051.949951  15944550\n",
      "2024-02-20  1041.050049  1052.650024  1033.250000  1048.750000  11293528\n",
      "2024-02-19  1023.349976  1046.000000  1023.349976  1043.750000   9388255\n",
      "2024-02-16  1023.200012  1026.199951  1016.900024  1023.250000   7159395\n",
      "2024-02-15  1022.849976  1026.650024  1006.599976  1016.650024  10069878\n",
      "####################################################################################################\n",
      "\n",
      "\n"
     ]
    },
    {
     "name": "stderr",
     "output_type": "stream",
     "text": [
      "d:\\Softwares\\Python\\Lib\\site-packages\\yfinance\\utils.py:775: FutureWarning: The 'unit' keyword in TimedeltaIndex construction is deprecated and will be removed in a future version. Use pd.to_timedelta instead.\n",
      "  df.index += _pd.TimedeltaIndex(dst_error_hours, 'h')\n",
      "d:\\Softwares\\Python\\Lib\\site-packages\\yfinance\\utils.py:775: FutureWarning: The 'unit' keyword in TimedeltaIndex construction is deprecated and will be removed in a future version. Use pd.to_timedelta instead.\n",
      "  df.index += _pd.TimedeltaIndex(dst_error_hours, 'h')\n"
     ]
    },
    {
     "name": "stdout",
     "output_type": "stream",
     "text": [
      "Ticker Name: SBIN.NS \t Number of record fetched: 5\n",
      "                  Open        High         Low       Close    Volume\n",
      "Date                                                                \n",
      "2024-02-21  760.650024  777.500000  759.599976  771.500000  21461334\n",
      "2024-02-20  759.049988  763.500000  754.000000  760.099976  12528399\n",
      "2024-02-19  758.700012  765.000000  750.000000  759.250000  13979584\n",
      "2024-02-16  763.450012  774.599976  753.349976  754.700012  27365121\n",
      "2024-02-15  747.700012  764.000000  741.650024  761.700012  33941282\n",
      "####################################################################################################\n",
      "\n",
      "\n",
      "Ticker Name: TCS.NS \t Number of record fetched: 5\n",
      "                   Open         High          Low        Close   Volume\n",
      "Date                                                                   \n",
      "2024-02-21  4013.000000  4063.350098  3980.600098  3991.500000  1885558\n",
      "2024-02-20  4082.100098  4098.000000  4010.000000  4030.649902  1193648\n",
      "2024-02-19  4123.049805  4128.299805  4055.000000  4103.799805   772291\n",
      "2024-02-16  4113.250000  4147.950195  4100.100098  4128.299805  1307556\n",
      "2024-02-15  4128.000000  4146.299805  4083.000000  4103.200195  1091582\n",
      "####################################################################################################\n",
      "\n",
      "\n",
      "Ticker Name: MPHASIS.NS \t Number of record fetched: 5\n",
      "                   Open         High          Low        Close   Volume\n",
      "Date                                                                   \n",
      "2024-02-21  2766.949951  2782.149902  2640.000000  2654.350098   400678\n",
      "2024-02-20  2779.350098  2822.000000  2729.699951  2764.850098   332331\n",
      "2024-02-19  2820.000000  2837.600098  2752.000000  2779.350098   743014\n",
      "2024-02-16  2708.600098  2818.699951  2696.100098  2801.949951  1103339\n",
      "2024-02-15  2574.000000  2725.000000  2574.000000  2708.600098  1010278\n",
      "####################################################################################################\n",
      "\n",
      "\n",
      "Ticker Name: TECHM.NS \t Number of record fetched: 5\n",
      "                   Open         High          Low        Close   Volume\n",
      "Date                                                                   \n",
      "2024-02-21  1320.000000  1325.000000  1292.199951  1296.599976  1769454\n",
      "2024-02-20  1310.000000  1323.650024  1302.000000  1320.550049  2113200\n",
      "2024-02-19  1302.949951  1318.000000  1287.449951  1310.000000  1496111\n",
      "2024-02-16  1305.099976  1309.199951  1298.000000  1302.550049  1994659\n",
      "2024-02-15  1304.699951  1308.000000  1291.550049  1300.349976  1703763\n",
      "####################################################################################################\n",
      "\n",
      "\n"
     ]
    },
    {
     "name": "stderr",
     "output_type": "stream",
     "text": [
      "d:\\Softwares\\Python\\Lib\\site-packages\\yfinance\\utils.py:775: FutureWarning: The 'unit' keyword in TimedeltaIndex construction is deprecated and will be removed in a future version. Use pd.to_timedelta instead.\n",
      "  df.index += _pd.TimedeltaIndex(dst_error_hours, 'h')\n",
      "d:\\Softwares\\Python\\Lib\\site-packages\\yfinance\\utils.py:775: FutureWarning: The 'unit' keyword in TimedeltaIndex construction is deprecated and will be removed in a future version. Use pd.to_timedelta instead.\n",
      "  df.index += _pd.TimedeltaIndex(dst_error_hours, 'h')\n"
     ]
    }
   ],
   "source": [
    "## print ticker name and 5 rows of data\n",
    "## check data availability and whether ticker name is correct or not\n",
    "## throws unit warning, can be ignored.\n",
    "for name in names:\n",
    "    df = get_ohlc_feed(name=name, period='5d')\n",
    "    df.sort_values(\"Date\", ascending=False, inplace=True)\n",
    "    print(f\"Ticker Name: {name}\" , \"\\t\", f\"Number of record fetched: {df.shape[0]}\")\n",
    "    print(df.head())\n",
    "    print(r\"#\" * 100)\n",
    "    print(\"\\n\")"
   ]
  },
  {
   "cell_type": "markdown",
   "metadata": {},
   "source": [
    "Saving data in CSV and JSON formats"
   ]
  },
  {
   "cell_type": "code",
   "execution_count": 7,
   "metadata": {},
   "outputs": [
    {
     "name": "stderr",
     "output_type": "stream",
     "text": [
      "d:\\Softwares\\Python\\Lib\\site-packages\\yfinance\\utils.py:775: FutureWarning: The 'unit' keyword in TimedeltaIndex construction is deprecated and will be removed in a future version. Use pd.to_timedelta instead.\n",
      "  df.index += _pd.TimedeltaIndex(dst_error_hours, 'h')\n"
     ]
    },
    {
     "name": "stdout",
     "output_type": "stream",
     "text": [
      "Number of records fetched: 1472\n",
      "File Saved: NSEI.csv\n"
     ]
    },
    {
     "name": "stderr",
     "output_type": "stream",
     "text": [
      "d:\\Softwares\\Python\\Lib\\site-packages\\yfinance\\utils.py:775: FutureWarning: The 'unit' keyword in TimedeltaIndex construction is deprecated and will be removed in a future version. Use pd.to_timedelta instead.\n",
      "  df.index += _pd.TimedeltaIndex(dst_error_hours, 'h')\n"
     ]
    },
    {
     "name": "stdout",
     "output_type": "stream",
     "text": [
      "Number of records fetched: 1475\n",
      "File Saved: RELIANCE.csv\n"
     ]
    },
    {
     "name": "stderr",
     "output_type": "stream",
     "text": [
      "d:\\Softwares\\Python\\Lib\\site-packages\\yfinance\\utils.py:775: FutureWarning: The 'unit' keyword in TimedeltaIndex construction is deprecated and will be removed in a future version. Use pd.to_timedelta instead.\n",
      "  df.index += _pd.TimedeltaIndex(dst_error_hours, 'h')\n"
     ]
    },
    {
     "name": "stdout",
     "output_type": "stream",
     "text": [
      "Number of records fetched: 1475\n",
      "File Saved: BHARTIARTL.csv\n"
     ]
    },
    {
     "name": "stderr",
     "output_type": "stream",
     "text": [
      "d:\\Softwares\\Python\\Lib\\site-packages\\yfinance\\utils.py:775: FutureWarning: The 'unit' keyword in TimedeltaIndex construction is deprecated and will be removed in a future version. Use pd.to_timedelta instead.\n",
      "  df.index += _pd.TimedeltaIndex(dst_error_hours, 'h')\n"
     ]
    },
    {
     "name": "stdout",
     "output_type": "stream",
     "text": [
      "Number of records fetched: 1475\n",
      "File Saved: ASIANPAINT.csv\n",
      "Number of records fetched: 1475\n",
      "File Saved: HDFCBANK.csv\n"
     ]
    },
    {
     "name": "stderr",
     "output_type": "stream",
     "text": [
      "d:\\Softwares\\Python\\Lib\\site-packages\\yfinance\\utils.py:775: FutureWarning: The 'unit' keyword in TimedeltaIndex construction is deprecated and will be removed in a future version. Use pd.to_timedelta instead.\n",
      "  df.index += _pd.TimedeltaIndex(dst_error_hours, 'h')\n"
     ]
    }
   ],
   "source": [
    "## saving first 5 companies' data in csv, cleaning tickername and saving file as TICKERNAME.CSV\n",
    "## period is set to last 15 days.\n",
    "## strip ^ symbol from name, split at . to remove NS from tickername\n",
    "\n",
    "for i in range(5):\n",
    "    df = get_ohlc_feed(name=names[i], startdate=startdate, enddate=enddate)\n",
    "    new_name = names[i].strip('^').split('.')[0]\n",
    "    print(f\"Number of records fetched: {df.shape[0]}\")\n",
    "    logger.info(f\"Successfully fetched {df.shape[0]} rows of data for ticker {names[i]}\")\n",
    "    df.to_csv(f'D:\\\\Study\\\\DE\\\\Project\\\\data_source\\\\{new_name}.csv')\n",
    "    print(f\"File Saved: {new_name}.csv\")\n",
    "    logger.info(f\"Successfully saved file {new_name}.csv to path D:\\\\Study\\\\DE\\\\Project\\\\data_source\\\\\")"
   ]
  },
  {
   "cell_type": "code",
   "execution_count": 8,
   "metadata": {},
   "outputs": [
    {
     "name": "stderr",
     "output_type": "stream",
     "text": [
      "d:\\Softwares\\Python\\Lib\\site-packages\\yfinance\\utils.py:775: FutureWarning: The 'unit' keyword in TimedeltaIndex construction is deprecated and will be removed in a future version. Use pd.to_timedelta instead.\n",
      "  df.index += _pd.TimedeltaIndex(dst_error_hours, 'h')\n"
     ]
    },
    {
     "name": "stdout",
     "output_type": "stream",
     "text": [
      "Number of records fetched: 1475\n",
      "File Saved: ICICIBANK.json\n"
     ]
    },
    {
     "name": "stderr",
     "output_type": "stream",
     "text": [
      "d:\\Softwares\\Python\\Lib\\site-packages\\yfinance\\utils.py:775: FutureWarning: The 'unit' keyword in TimedeltaIndex construction is deprecated and will be removed in a future version. Use pd.to_timedelta instead.\n",
      "  df.index += _pd.TimedeltaIndex(dst_error_hours, 'h')\n"
     ]
    },
    {
     "name": "stdout",
     "output_type": "stream",
     "text": [
      "Number of records fetched: 1475\n",
      "File Saved: SBIN.json\n"
     ]
    },
    {
     "name": "stderr",
     "output_type": "stream",
     "text": [
      "d:\\Softwares\\Python\\Lib\\site-packages\\yfinance\\utils.py:775: FutureWarning: The 'unit' keyword in TimedeltaIndex construction is deprecated and will be removed in a future version. Use pd.to_timedelta instead.\n",
      "  df.index += _pd.TimedeltaIndex(dst_error_hours, 'h')\n"
     ]
    },
    {
     "name": "stdout",
     "output_type": "stream",
     "text": [
      "Number of records fetched: 1475\n",
      "File Saved: TCS.json\n"
     ]
    },
    {
     "name": "stderr",
     "output_type": "stream",
     "text": [
      "d:\\Softwares\\Python\\Lib\\site-packages\\yfinance\\utils.py:775: FutureWarning: The 'unit' keyword in TimedeltaIndex construction is deprecated and will be removed in a future version. Use pd.to_timedelta instead.\n",
      "  df.index += _pd.TimedeltaIndex(dst_error_hours, 'h')\n",
      "d:\\Softwares\\Python\\Lib\\site-packages\\yfinance\\utils.py:775: FutureWarning: The 'unit' keyword in TimedeltaIndex construction is deprecated and will be removed in a future version. Use pd.to_timedelta instead.\n",
      "  df.index += _pd.TimedeltaIndex(dst_error_hours, 'h')\n"
     ]
    },
    {
     "name": "stdout",
     "output_type": "stream",
     "text": [
      "Number of records fetched: 1475\n",
      "File Saved: MPHASIS.json\n",
      "Number of records fetched: 1475\n",
      "File Saved: TECHM.json\n"
     ]
    }
   ],
   "source": [
    "## saving last 5 companies' data to json\n",
    "## ticker name cleaning and file names are similar to previous approach\n",
    "## orient = records because we want to update json\n",
    "\n",
    "for i in range(5,10):\n",
    "    df = get_ohlc_feed(name=names[i], startdate=startdate, enddate=enddate)\n",
    "    df.reset_index(inplace=True)\n",
    "    new_name = names[i].strip('^').split('.')[0]\n",
    "    print(f\"Number of records fetched: {df.shape[0]}\")\n",
    "    logger.info(f\"Successfully fetched {df.shape[0]} rows of data for ticker {names[i]}\")\n",
    "    df.to_json(f'D:\\\\Study\\\\DE\\\\Project\\\\data_source\\\\{new_name}.json',  orient='records', date_format='iso', date_unit='ms')\n",
    "    print(f\"File Saved: {new_name}.json\")\n",
    "    logger.info(f\"Successfully saved file {new_name}.json to path D:\\\\Study\\\\DE\\\\Project\\\\data_source\\\\\")"
   ]
  },
  {
   "cell_type": "markdown",
   "metadata": {},
   "source": [
    "Function for daily updation of data"
   ]
  },
  {
   "cell_type": "code",
   "execution_count": 9,
   "metadata": {},
   "outputs": [],
   "source": [
    "## Function to get todays data for updating daily, preferably after market is closed\n",
    "\n",
    "def updated_ohlc_feed(name, period=update_period):\n",
    "    data = get_ohlc_feed(name, period=update_period)\n",
    "    return data\n",
    "\n",
    "def serialize_datetime(obj):\n",
    "    if isinstance(obj, (dt.datetime, dt.date)):\n",
    "        return obj.isoformat()\n",
    "    raise TypeError(\"Cannot serialize for given type\")"
   ]
  },
  {
   "cell_type": "code",
   "execution_count": 10,
   "metadata": {},
   "outputs": [
    {
     "name": "stderr",
     "output_type": "stream",
     "text": [
      "d:\\Softwares\\Python\\Lib\\site-packages\\yfinance\\utils.py:775: FutureWarning: The 'unit' keyword in TimedeltaIndex construction is deprecated and will be removed in a future version. Use pd.to_timedelta instead.\n",
      "  df.index += _pd.TimedeltaIndex(dst_error_hours, 'h')\n",
      "d:\\Softwares\\Python\\Lib\\site-packages\\yfinance\\utils.py:775: FutureWarning: The 'unit' keyword in TimedeltaIndex construction is deprecated and will be removed in a future version. Use pd.to_timedelta instead.\n",
      "  df.index += _pd.TimedeltaIndex(dst_error_hours, 'h')\n"
     ]
    },
    {
     "name": "stdout",
     "output_type": "stream",
     "text": [
      "Ticker Name: NSEI\n",
      "                    Open          High           Low         Close  Volume\n",
      "Date                                                                      \n",
      "2024-02-21  22020.300781  22249.400391  21997.949219  22055.050781       0\n",
      "####################################################################################################\n",
      "Ticker Name: RELIANCE\n",
      "              Open         High          Low        Close   Volume\n",
      "Date                                                              \n",
      "2024-02-21  2948.0  2977.050049  2915.100098  2935.399902  6359316\n",
      "####################################################################################################\n"
     ]
    },
    {
     "name": "stderr",
     "output_type": "stream",
     "text": [
      "d:\\Softwares\\Python\\Lib\\site-packages\\yfinance\\utils.py:775: FutureWarning: The 'unit' keyword in TimedeltaIndex construction is deprecated and will be removed in a future version. Use pd.to_timedelta instead.\n",
      "  df.index += _pd.TimedeltaIndex(dst_error_hours, 'h')\n",
      "d:\\Softwares\\Python\\Lib\\site-packages\\yfinance\\utils.py:775: FutureWarning: The 'unit' keyword in TimedeltaIndex construction is deprecated and will be removed in a future version. Use pd.to_timedelta instead.\n",
      "  df.index += _pd.TimedeltaIndex(dst_error_hours, 'h')\n"
     ]
    },
    {
     "name": "stdout",
     "output_type": "stream",
     "text": [
      "Ticker Name: BHARTIARTL\n",
      "              Open         High          Low        Close   Volume\n",
      "Date                                                              \n",
      "2024-02-21  1155.0  1159.150024  1132.599976  1139.900024  4570075\n",
      "####################################################################################################\n",
      "Ticker Name: ASIANPAINT\n",
      "                   Open     High     Low        Close  Volume\n",
      "Date                                                         \n",
      "2024-02-21  3012.050049  3026.75  2983.5  3001.800049  926774\n",
      "####################################################################################################\n",
      "Ticker Name: HDFCBANK\n",
      "              Open    High     Low        Close    Volume\n",
      "Date                                                     \n",
      "2024-02-21  1464.0  1464.0  1435.0  1439.150024  22940046\n",
      "####################################################################################################\n"
     ]
    },
    {
     "name": "stderr",
     "output_type": "stream",
     "text": [
      "d:\\Softwares\\Python\\Lib\\site-packages\\yfinance\\utils.py:775: FutureWarning: The 'unit' keyword in TimedeltaIndex construction is deprecated and will be removed in a future version. Use pd.to_timedelta instead.\n",
      "  df.index += _pd.TimedeltaIndex(dst_error_hours, 'h')\n"
     ]
    }
   ],
   "source": [
    "## updating csv files, appending today's data to previous data\n",
    "for i in range(5):\n",
    "    df = updated_ohlc_feed(names[i])\n",
    "    new_name = names[i].strip('^').split('.')[0]\n",
    "    print(f\"Ticker Name: {new_name}\")\n",
    "    logger.info(f\"Successfully fetched {df.shape[0]} rows of data for ticker {names[i]}\")\n",
    "    print(df.head(5))\n",
    "    print(r\"#\" * 100)\n",
    "    df.to_csv(f'D:\\\\Study\\\\DE\\\\Project\\\\data_source\\\\{new_name}.csv', mode='a', header=False)\n",
    "    logger.info(f\"Successfully saved {df.shape[0]} rows to file D:\\\\Study\\\\DE\\\\Project\\\\data_source\\\\{new_name}.csv\")"
   ]
  },
  {
   "cell_type": "code",
   "execution_count": 11,
   "metadata": {},
   "outputs": [
    {
     "name": "stderr",
     "output_type": "stream",
     "text": [
      "d:\\Softwares\\Python\\Lib\\site-packages\\yfinance\\utils.py:775: FutureWarning: The 'unit' keyword in TimedeltaIndex construction is deprecated and will be removed in a future version. Use pd.to_timedelta instead.\n",
      "  df.index += _pd.TimedeltaIndex(dst_error_hours, 'h')\n",
      "d:\\Softwares\\Python\\Lib\\site-packages\\yfinance\\utils.py:775: FutureWarning: The 'unit' keyword in TimedeltaIndex construction is deprecated and will be removed in a future version. Use pd.to_timedelta instead.\n",
      "  df.index += _pd.TimedeltaIndex(dst_error_hours, 'h')\n"
     ]
    },
    {
     "name": "stdout",
     "output_type": "stream",
     "text": [
      "Ticker Name: ICICIBANK\n",
      "         Date         Open    High     Low        Close    Volume\n",
      "0  2024-02-21  1056.800049  1064.0  1048.0  1051.949951  15944550\n",
      "####################################################################################################\n",
      "Ticker Name: SBIN\n",
      "         Date        Open   High         Low  Close    Volume\n",
      "0  2024-02-21  760.650024  777.5  759.599976  771.5  21461334\n",
      "####################################################################################################\n"
     ]
    },
    {
     "name": "stderr",
     "output_type": "stream",
     "text": [
      "d:\\Softwares\\Python\\Lib\\site-packages\\yfinance\\utils.py:775: FutureWarning: The 'unit' keyword in TimedeltaIndex construction is deprecated and will be removed in a future version. Use pd.to_timedelta instead.\n",
      "  df.index += _pd.TimedeltaIndex(dst_error_hours, 'h')\n",
      "d:\\Softwares\\Python\\Lib\\site-packages\\yfinance\\utils.py:775: FutureWarning: The 'unit' keyword in TimedeltaIndex construction is deprecated and will be removed in a future version. Use pd.to_timedelta instead.\n",
      "  df.index += _pd.TimedeltaIndex(dst_error_hours, 'h')\n"
     ]
    },
    {
     "name": "stdout",
     "output_type": "stream",
     "text": [
      "Ticker Name: TCS\n",
      "         Date    Open         High          Low   Close   Volume\n",
      "0  2024-02-21  4013.0  4063.350098  3980.600098  3991.5  1885558\n",
      "####################################################################################################\n",
      "Ticker Name: MPHASIS\n",
      "         Date         Open         High     Low        Close  Volume\n",
      "0  2024-02-21  2766.949951  2782.149902  2640.0  2654.350098  400678\n",
      "####################################################################################################\n",
      "Ticker Name: TECHM\n",
      "         Date    Open    High          Low        Close   Volume\n",
      "0  2024-02-21  1320.0  1325.0  1292.199951  1296.599976  1769454\n",
      "####################################################################################################\n"
     ]
    },
    {
     "name": "stderr",
     "output_type": "stream",
     "text": [
      "d:\\Softwares\\Python\\Lib\\site-packages\\yfinance\\utils.py:775: FutureWarning: The 'unit' keyword in TimedeltaIndex construction is deprecated and will be removed in a future version. Use pd.to_timedelta instead.\n",
      "  df.index += _pd.TimedeltaIndex(dst_error_hours, 'h')\n"
     ]
    }
   ],
   "source": [
    "## updating json files, appending today's data\n",
    "## json in 'record' orientation will create an array of record objects\n",
    "## hence to update a json file we open it in read mode\n",
    "## load its data to a dict, convert latest data to dict\n",
    "## then extent current data with latest data, then write/dump to json\n",
    "for i in range(5,10):\n",
    "    df = updated_ohlc_feed(names[i])\n",
    "    df.reset_index(inplace=True)\n",
    "    new_name = names[i].strip('^').split('.')[0]\n",
    "    print(f\"Ticker Name: {new_name}\")\n",
    "    logger.info(f\"Successfully fetched {df.shape[0]} rows of data for ticker {names[i]}\")\n",
    "    print(df.head(5))\n",
    "    print(r\"#\" * 100)\n",
    "    \n",
    "    with open(f'D:\\\\Study\\\\DE\\\\Project\\\\data_source\\\\{new_name}.json', 'r') as file:\n",
    "        data = json.load(file)\n",
    "\n",
    "    new_data = df.to_dict(orient='records')\n",
    "    data.extend(new_data)\n",
    "\n",
    "    with open(f'D:\\\\Study\\\\DE\\\\Project\\\\data_source\\\\{new_name}.json', 'w') as file:\n",
    "        json.dump(data, file,indent=4, default=serialize_datetime)\n",
    "    logger.info(f\"Successfully saved {df.shape[0]} rows to file D:\\\\Study\\\\DE\\\\Project\\\\data_source\\\\{new_name}.json\")"
   ]
  }
 ],
 "metadata": {
  "kernelspec": {
   "display_name": "Python 3",
   "language": "python",
   "name": "python3"
  },
  "language_info": {
   "codemirror_mode": {
    "name": "ipython",
    "version": 3
   },
   "file_extension": ".py",
   "mimetype": "text/x-python",
   "name": "python",
   "nbconvert_exporter": "python",
   "pygments_lexer": "ipython3",
   "version": "3.12.2"
  }
 },
 "nbformat": 4,
 "nbformat_minor": 2
}
